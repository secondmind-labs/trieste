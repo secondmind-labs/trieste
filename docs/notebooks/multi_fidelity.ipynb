{
 "cells": [
  {
   "cell_type": "code",
   "execution_count": 1,
   "metadata": {},
   "outputs": [
    {
     "name": "stderr",
     "output_type": "stream",
     "text": [
      "2022-09-06 11:43:08.682772: W tensorflow/stream_executor/platform/default/dso_loader.cc:64] Could not load dynamic library 'libcudart.so.11.0'; dlerror: libcudart.so.11.0: cannot open shared object file: No such file or directory\n",
      "2022-09-06 11:43:08.682793: I tensorflow/stream_executor/cuda/cudart_stub.cc:29] Ignore above cudart dlerror if you do not have a GPU set up on your machine.\n",
      "2022-09-06 11:43:10.503858: W tensorflow/stream_executor/platform/default/dso_loader.cc:64] Could not load dynamic library 'libcuda.so.1'; dlerror: libcuda.so.1: cannot open shared object file: No such file or directory\n",
      "2022-09-06 11:43:10.503877: W tensorflow/stream_executor/cuda/cuda_driver.cc:269] failed call to cuInit: UNKNOWN ERROR (303)\n",
      "2022-09-06 11:43:10.503891: I tensorflow/stream_executor/cuda/cuda_diagnostics.cc:156] kernel driver does not appear to be running on this host (goodalla-lptp): /proc/driver/nvidia/version does not exist\n",
      "2022-09-06 11:43:10.504095: I tensorflow/core/platform/cpu_feature_guard.cc:151] This TensorFlow binary is optimized with oneAPI Deep Neural Network Library (oneDNN) to use the following CPU instructions in performance-critical operations:  AVX2 FMA\n",
      "To enable them in other operations, rebuild TensorFlow with the appropriate compiler flags.\n"
     ]
    }
   ],
   "source": [
    "from __future__ import annotations\n",
    "\n",
    "import trieste\n",
    "import tensorflow as tf\n",
    "import numpy as np\n",
    "from trieste.acquisition.interface import (\n",
    "    AcquisitionFunction,\n",
    "    SingleModelAcquisitionBuilder,\n",
    ")\n",
    "from typing import Optional, cast, Generic, TypeVar, Sequence\n",
    "from trieste.data import Dataset\n",
    "from trieste.types import TensorType\n",
    "import tensorflow_probability as tfp\n",
    "from trieste.acquisition import AcquisitionFunctionClass\n",
    "from trieste.objectives import scaled_branin\n",
    "from trieste.models.gpflow.builders import build_gpr\n",
    "from trieste.models.gpflow import GaussianProcessRegression\n",
    "from trieste.models.interfaces import (\n",
    "    ProbabilisticModel,\n",
    "    TrainableProbabilisticModel,\n",
    ")\n",
    "from gpflow.logdensities import multivariate_normal\n",
    "import gpflow\n",
    "from gpflow.models import GPR\n",
    "import math\n",
    "import matplotlib.pyplot as plt\n",
    "OBJECTIVE = \"OBJECTIVE\"\n",
    "\n",
    "ProbabilisticModelType = TypeVar(\n",
    "    \"ProbabilisticModelType\", bound=\"ProbabilisticModel\", contravariant=True\n",
    ")\n",
    "import concurrent.futures\n",
    "from tensorflow.python.ops.numpy_ops import np_config\n",
    "np_config.enable_numpy_behavior()"
   ]
  }
 ],
 "metadata": {
  "kernelspec": {
   "display_name": "Python 3.7.13 64-bit ('multifidelity')",
   "language": "python",
   "name": "python3"
  },
  "language_info": {
   "codemirror_mode": {
    "name": "ipython",
    "version": 3
   },
   "file_extension": ".py",
   "mimetype": "text/x-python",
   "name": "python",
   "nbconvert_exporter": "python",
   "pygments_lexer": "ipython3",
   "version": "3.7.13"
  },
  "orig_nbformat": 4,
  "vscode": {
   "interpreter": {
    "hash": "93f880fd06a5a228ee52ae6f6087a66a6a3167274718b103e276154900951eac"
   }
  }
 },
 "nbformat": 4,
 "nbformat_minor": 2
}
