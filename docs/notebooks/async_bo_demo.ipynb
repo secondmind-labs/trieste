{
 "cells": [
  {
   "cell_type": "markdown",
   "id": "356ed6bd",
   "metadata": {},
   "source": [
    "### Simple objective: branin with sleeps to emulate delay"
   ]
  },
  {
   "cell_type": "code",
   "execution_count": 1,
   "id": "4df435e4",
   "metadata": {},
   "outputs": [],
   "source": [
    "# silence TF warnings and info messages, only print errors\n",
    "# https://stackoverflow.com/questions/35911252/disable-tensorflow-debugging-information\n",
    "import os\n",
    "os.environ['TF_CPP_MIN_LOG_LEVEL'] = '3' \n",
    "import tensorflow as tf\n",
    "tf.get_logger().setLevel('ERROR')\n",
    "import numpy as np\n",
    "import math\n",
    "import timeit"
   ]
  },
  {
   "cell_type": "code",
   "execution_count": 2,
   "id": "c25ebea6",
   "metadata": {},
   "outputs": [],
   "source": [
    "mnist = tf.keras.datasets.mnist\n",
    "\n",
    "(x_train, y_train), (x_test, y_test) = mnist.load_data()\n",
    "x_train, x_test = x_train / 255.0, x_test / 255.0"
   ]
  },
  {
   "cell_type": "code",
   "execution_count": 3,
   "id": "c694e470",
   "metadata": {},
   "outputs": [],
   "source": [
    "def objective(points):\n",
    "    if points.shape[1] != 2:\n",
    "        raise ValueError(f\"Incorrect input shape, expected (*, 2), got {x.shape}\")\n",
    "\n",
    "    def branin(x):\n",
    "        x0 = x[..., :1] * 15.0 - 5.0\n",
    "        x1 = x[..., 1:] * 15.0\n",
    "\n",
    "        b = 5.1 / (4 * math.pi ** 2)\n",
    "        c = 5 / math.pi\n",
    "        r = 6\n",
    "        s = 10\n",
    "        t = 1 / (8 * math.pi)\n",
    "        scale = 1\n",
    "        translate = 10\n",
    "\n",
    "        return scale * ((x1 - b * x0 ** 2 + c * x0 - r) ** 2 + s * (1 - t) * np.cos(x0) + translate)\n",
    "        \n",
    "    observations = []\n",
    "    for point in points:\n",
    "        observation = branin(point)\n",
    "        observations.append(observation)\n",
    "    \n",
    "    return observations"
   ]
  },
  {
   "cell_type": "code",
   "execution_count": 4,
   "id": "07f4c314",
   "metadata": {},
   "outputs": [
    {
     "data": {
      "text/plain": [
       "[array([32.96369168])]"
      ]
     },
     "execution_count": 4,
     "metadata": {},
     "output_type": "execute_result"
    }
   ],
   "source": [
    "objective(np.array([[0.1, 0.5]]))"
   ]
  },
  {
   "cell_type": "markdown",
   "id": "59963be0",
   "metadata": {},
   "source": [
    "### Here comes Trieste"
   ]
  },
  {
   "cell_type": "code",
   "execution_count": 5,
   "id": "f34dbeb0",
   "metadata": {},
   "outputs": [],
   "source": [
    "from trieste.objectives.utils import mk_observer\n",
    "from trieste.space import Box\n",
    "\n",
    "search_space = Box([0, 0], [1, 1])"
   ]
  },
  {
   "cell_type": "code",
   "execution_count": 6,
   "id": "d92d3ef4",
   "metadata": {},
   "outputs": [],
   "source": [
    "from trieste.data import Dataset\n",
    "\n",
    "num_initial_points = 3\n",
    "initial_query_points = search_space.sample(num_initial_points)\n",
    "initial_observations = objective(initial_query_points.numpy())"
   ]
  },
  {
   "cell_type": "code",
   "execution_count": 7,
   "id": "0adcda96",
   "metadata": {},
   "outputs": [
    {
     "name": "stdout",
     "output_type": "stream",
     "text": [
      "Dataset(query_points=<tf.Tensor: shape=(3, 2), dtype=float64, numpy=\n",
      "array([[0.52496236, 0.72011192],\n",
      "       [0.99852951, 0.70053815],\n",
      "       [0.39182544, 0.17070116]])>, observations=<tf.Tensor: shape=(3, 1), dtype=float64, numpy=\n",
      "array([[69.77988602],\n",
      "       [58.48466555],\n",
      "       [20.72779849]])>)\n"
     ]
    }
   ],
   "source": [
    "initial_data = Dataset(query_points=initial_query_points, observations=tf.constant(initial_observations, dtype=tf.float64))\n",
    "\n",
    "print(initial_data)"
   ]
  },
  {
   "cell_type": "code",
   "execution_count": 8,
   "id": "84c5fc05",
   "metadata": {},
   "outputs": [],
   "source": [
    "import gpflow\n",
    "from trieste.models import create_model\n",
    "from trieste.utils import map_values\n",
    "import tensorflow_probability as tfp\n",
    "\n",
    "from trieste.models.gpflow.config import GPflowModelConfig\n",
    "\n",
    "\n",
    "def build_model(data):\n",
    "    variance = tf.math.reduce_variance(data.observations)\n",
    "    kernel = gpflow.kernels.RBF(variance=variance)\n",
    "    gpr = gpflow.models.GPR(data.astuple(), kernel, noise_variance=1e-5)\n",
    "    gpflow.set_trainable(gpr.likelihood, False)\n",
    "\n",
    "    return GPflowModelConfig(**{\n",
    "        \"model\": gpr,\n",
    "        \"optimizer\": gpflow.optimizers.Scipy(),\n",
    "        \"optimizer_args\": {\n",
    "            \"minimize_args\": {\"options\": dict(maxiter=100)},\n",
    "        },\n",
    "    })"
   ]
  },
  {
   "cell_type": "code",
   "execution_count": 11,
   "id": "f89c5f0c",
   "metadata": {},
   "outputs": [],
   "source": [
    "model_spec = build_model(initial_data)\n",
    "model = create_model(model_spec)\n",
    "\n",
    "model.optimize(initial_data)"
   ]
  },
  {
   "cell_type": "code",
   "execution_count": 12,
   "id": "30cbf83a",
   "metadata": {},
   "outputs": [],
   "source": [
    "from trieste.acquisition import LocalPenalizationAcquisitionFunction\n",
    "from trieste.acquisition.rule import EfficientGlobalOptimization\n",
    "\n",
    "local_penalization_acq = LocalPenalizationAcquisitionFunction(search_space, num_samples=2000)\n",
    "local_penalization_acq_rule = EfficientGlobalOptimization(\n",
    "    num_query_points=2, builder=local_penalization_acq)\n",
    "points_chosen = local_penalization_acq_rule.acquire_single(search_space, initial_data, model)"
   ]
  },
  {
   "cell_type": "code",
   "execution_count": 13,
   "id": "b37eb351",
   "metadata": {},
   "outputs": [
    {
     "data": {
      "text/plain": [
       "<tf.Tensor: shape=(2, 2), dtype=float64, numpy=\n",
       "array([[0., 0.],\n",
       "       [1., 0.]])>"
      ]
     },
     "execution_count": 13,
     "metadata": {},
     "output_type": "execute_result"
    }
   ],
   "source": [
    "points_chosen"
   ]
  },
  {
   "cell_type": "code",
   "execution_count": 14,
   "id": "73d3c091",
   "metadata": {},
   "outputs": [
    {
     "data": {
      "text/plain": [
       "[array([308.12909601]), array([10.96088904])]"
      ]
     },
     "execution_count": 14,
     "metadata": {},
     "output_type": "execute_result"
    }
   ],
   "source": [
    "objective(points_chosen.numpy())"
   ]
  },
  {
   "cell_type": "markdown",
   "id": "182bdcaa",
   "metadata": {},
   "source": [
    "### Doing observations in separate processes"
   ]
  },
  {
   "cell_type": "code",
   "execution_count": 33,
   "id": "c11af9f9",
   "metadata": {},
   "outputs": [
    {
     "name": "stdout",
     "output_type": "stream",
     "text": [
      "Process 20852: set CPU to 0\n",
      "Process 20857: set CPU to 1\n",
      "Process 20865: set CPU to 2\n",
      "Process 20852: observing data at point [[0. 0.]]Process 20857: observing data at point [[1. 0.]]\n",
      "\n",
      "Observer Process 20852 pretends like it's doing something for 0.0sObserver Process 20857 pretends like it's doing something for 1e+01s\n",
      "\n",
      "Observer Process 20852: observed data (array([[0., 0.]]), [array([308.12909601])])\n",
      "Main Process 7228: received data (array([[0., 0.]]), [array([308.12909601])])\n",
      "Main Process 7228: acquired point [[0.81649026 0.69271001]\n",
      " [0.011063   0.00624165]]\n",
      "Process 20852: observing data at point [[0.011063   0.00624165]]Process 20865: observing data at point [[0.81649026 0.69271001]]\n",
      "\n",
      "Observer Process 20852 pretends like it's doing something for 0.17sObserver Process 20865 pretends like it's doing something for 1.5e+01s\n",
      "\n",
      "Observer Process 20852: observed data (array([[0.011063  , 0.00624165]]), [array([287.35014426])])\n",
      "Main Process 7228: received data (array([[0.011063  , 0.00624165]]), [array([287.35014426])])\n",
      "Main Process 7228: acquired point [[0.80274928 0.74731126]\n",
      " [0.00181236 0.03268472]]\n",
      "Process 20852: observing data at point [[0.80274928 0.74731126]]\n",
      "Observer Process 20852 pretends like it's doing something for 1.6e+01s\n",
      "Observer Process 20857: observed data (array([[1., 0.]]), [array([10.96088904])])\n",
      "Main Process 7228: received data (array([[1., 0.]]), [array([10.96088904])])\n",
      "Process 20857: observing data at point [[0.00181236 0.03268472]]\n",
      "Observer Process 20857 pretends like it's doing something for 0.34s\n",
      "Observer Process 20857: observed data (array([[0.00181236, 0.03268472]]), [array([288.65691662])])\n",
      "Main Process 7228: acquired point [[0.99244512 0.19859301]\n",
      " [0.         1.        ]]\n",
      "Process 20857: observing data at point [[0.99244512 0.19859301]]Main Process 7228: received data (array([[0.00181236, 0.03268472]]), [array([288.65691662])])\n",
      "\n",
      "Observer Process 20857 pretends like it's doing something for 1.2e+01s\n",
      "Main Process 7228: acquired point [[4.16991270e-01 5.02233484e-01]\n",
      " [9.99996917e-01 8.86941528e-07]]\n",
      "Observer Process 20865: observed data (array([[0.81649026, 0.69271001]]), [array([99.01133602])])\n",
      "Main Process 7228: received data (array([[0.81649026, 0.69271001]]), [array([99.01133602])])\n",
      "Process 20865: observing data at point [[0. 1.]]\n",
      "Observer Process 20865 pretends like it's doing something for 1e+01s\n",
      "Main Process 7228: acquired point [[0.45686629 0.08207558]\n",
      " [1.         1.        ]]\n",
      "Observer Process 20852: observed data (array([[0.80274928, 0.74731126]]), [array([117.19902542])])\n",
      "Main Process 7228: received data (array([[0.80274928, 0.74731126]]), [array([117.19902542])])\n",
      "Process 20852: observing data at point [[0.41699127 0.50223348]]\n",
      "Observer Process 20852 pretends like it's doing something for 9.2s\n",
      "Main Process 7228: acquired point [[0.58813182 0.90928637]\n",
      " [0.02306133 0.00248808]]\n",
      "Observer Process 20857: observed data (array([[0.99244512, 0.19859301]]), [array([1.41163169])])\n",
      "Main Process 7228: received data (array([[0.99244512, 0.19859301]]), [array([1.41163169])])\n",
      "Process 20857: observing data at point [[9.99996917e-01 8.86941528e-07]]\n",
      "Observer Process 20857 pretends like it's doing something for 1e+01s\n",
      "Main Process 7228: acquired point [[0.31038576 0.83043155]\n",
      " [0.99277501 0.00684096]]\n",
      "Observer Process 20865: observed data (array([[0., 1.]]), [array([17.50829952])])\n",
      "Main Process 7228: received data (array([[0., 1.]]), [array([17.50829952])])\n",
      "Process 20865: observing data at point [[0.45686629 0.08207558]]\n",
      "Observer Process 20865 pretends like it's doing something for 5.4s\n",
      "Main Process 7228: acquired point [[0.13487696 0.14947901]\n",
      " [1.         1.        ]]\n",
      "Observer Process 20852: observed data (array([[0.41699127, 0.50223348]]), [array([24.05402958])])\n",
      "Process 20852: observing data at point [[1. 1.]]Main Process 7228: received data (array([[0.41699127, 0.50223348]]), [array([24.05402958])])\n",
      "\n",
      "Observer Process 20852 pretends like it's doing something for 2e+01s\n",
      "Main Process 7228: acquired point [[0.92556555 0.09390928]\n",
      " [0.00290778 0.98869932]]\n",
      "Observer Process 20865: observed data (array([[0.45686629, 0.08207558]]), [array([12.44865399])])\n",
      "Main Process 7228: received data (array([[0.45686629, 0.08207558]]), [array([12.44865399])])\n",
      "Process 20865: observing data at point [[0.58813182 0.90928637]]\n",
      "Observer Process 20865 pretends like it's doing something for 1.5e+01s\n",
      "Main Process 7228: acquired point [[0.89369678 0.14236543]\n",
      " [0.0022489  0.99187215]]\n",
      "Time : 35.15298867599995\n"
     ]
    }
   ],
   "source": [
    "from multiprocessing import Process, Queue, Manager\n",
    "import time\n",
    "import sys\n",
    "import psutil\n",
    "\n",
    "num_workers = 3\n",
    "num_observations = 10\n",
    "dataset = initial_data\n",
    "\n",
    "model_spec = build_model(initial_data)\n",
    "model = create_model(model_spec)\n",
    "\n",
    "model.optimize(initial_data)\n",
    "\n",
    "local_penalization_acq = LocalPenalizationAcquisitionFunction(search_space)\n",
    "local_penalization_acq_rule = EfficientGlobalOptimization(\n",
    "    num_query_points=2, builder=local_penalization_acq)\n",
    "\n",
    "m = Manager()\n",
    "pq = m.Queue()\n",
    "oq = m.Queue()\n",
    "\n",
    "def observer_proc(points_queue, observations_queue, cpu_id):\n",
    "    pid = os.getpid()\n",
    "    \n",
    "    current_process = psutil.Process()\n",
    "    current_process.cpu_affinity([cpu_id])\n",
    "    print(f\"Process {pid}: set CPU to {cpu_id}\", flush=True)\n",
    "    \n",
    "    while True:\n",
    "        point_to_observe = points_queue.get()\n",
    "        if (point_to_observe is None):\n",
    "            return\n",
    "        \n",
    "        print(f\"Process {pid}: observing data at point {point_to_observe}\", flush=True)\n",
    "        \n",
    "        # insert some artificial delay\n",
    "        # increases linearly with the absolute value of points\n",
    "        # which means our evaluations will take different time, good for exploring async\n",
    "        delay = 10 * np.sum(point_to_observe)\n",
    "        print(f\"Observer Process {pid} pretends like it's doing something for {delay:.2}s\", flush=True)\n",
    "        time.sleep(delay)\n",
    "        new_observation = objective(point_to_observe)\n",
    "        new_data = (point_to_observe, new_observation)\n",
    "        \n",
    "        print(f\"Observer Process {pid}: observed data {new_data}\", flush=True)\n",
    "        \n",
    "        observations_queue.put(new_data)\n",
    "\n",
    "\n",
    "observer_processes = []\n",
    "\n",
    "start = timeit.default_timer()\n",
    "try:\n",
    "    for i in range(psutil.cpu_count())[:num_workers]:\n",
    "        observer_p = Process(target=observer_proc, args=(pq, oq, i))\n",
    "        observer_p.daemon = True\n",
    "        observer_p.start()\n",
    "\n",
    "        observer_processes.append(observer_p)\n",
    "\n",
    "    # init the queue with first batch of points\n",
    "    points_chosen = local_penalization_acq_rule.acquire_single(search_space, initial_data, model)\n",
    "    for point in points_chosen:\n",
    "        pq.put(np.atleast_2d(point.numpy()))\n",
    "\n",
    "    while len(dataset) < len(initial_data) + num_observations:\n",
    "        pid = os.getpid()\n",
    "        \n",
    "        try:\n",
    "            new_data = oq.get_nowait()\n",
    "            print(f\"Main Process {pid}: received data {new_data}\", flush=True)\n",
    "        except:\n",
    "            continue\n",
    "\n",
    "        new_data = Dataset(query_points=tf.constant(new_data[0], dtype=tf.float64),\n",
    "                           observations=tf.constant(new_data[1], dtype=tf.float64),\n",
    "                          )\n",
    "        dataset = dataset + new_data\n",
    "\n",
    "        model.update(dataset)\n",
    "        model.optimize(dataset)\n",
    "\n",
    "        new_points = local_penalization_acq_rule.acquire_single(search_space, dataset, model).numpy()\n",
    "        print(f\"Main Process {pid}: acquired point {new_points}\", flush=True)\n",
    "        for point in new_points:\n",
    "            pq.put(np.atleast_2d(point))\n",
    "finally:\n",
    "    for prc in observer_processes:\n",
    "        prc.terminate()\n",
    "        prc.join()\n",
    "        prc.close()\n",
    "stop = timeit.default_timer()\n",
    "\n",
    "print(f\"Time : {stop - start}\")"
   ]
  },
  {
   "cell_type": "code",
   "execution_count": 32,
   "id": "84549b16",
   "metadata": {},
   "outputs": [
    {
     "data": {
      "text/plain": [
       "Dataset(query_points=<tf.Tensor: shape=(7, 2), dtype=float64, numpy=\n",
       "array([[0.52496236, 0.72011192],\n",
       "       [0.99852951, 0.70053815],\n",
       "       [0.39182544, 0.17070116],\n",
       "       [0.        , 0.        ],\n",
       "       [0.42677059, 0.19428767],\n",
       "       [1.        , 0.        ],\n",
       "       [1.        , 0.        ]])>, observations=<tf.Tensor: shape=(7, 1), dtype=float64, numpy=\n",
       "array([[ 69.77988602],\n",
       "       [ 58.48466555],\n",
       "       [ 20.72779849],\n",
       "       [308.12909601],\n",
       "       [ 12.84672966],\n",
       "       [ 10.96088904],\n",
       "       [ 10.96088904]])>)"
      ]
     },
     "execution_count": 32,
     "metadata": {},
     "output_type": "execute_result"
    }
   ],
   "source": [
    "dataset"
   ]
  },
  {
   "cell_type": "code",
   "execution_count": null,
   "id": "f024e75e",
   "metadata": {},
   "outputs": [],
   "source": []
  }
 ],
 "metadata": {
  "kernelspec": {
   "display_name": "Python 3 (ipykernel)",
   "language": "python",
   "name": "python3"
  },
  "language_info": {
   "codemirror_mode": {
    "name": "ipython",
    "version": 3
   },
   "file_extension": ".py",
   "mimetype": "text/x-python",
   "name": "python",
   "nbconvert_exporter": "python",
   "pygments_lexer": "ipython3",
   "version": "3.7.5"
  }
 },
 "nbformat": 4,
 "nbformat_minor": 5
}
