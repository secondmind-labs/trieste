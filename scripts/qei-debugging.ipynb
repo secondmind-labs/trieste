{
 "cells": [
  {
   "cell_type": "code",
   "execution_count": 1,
   "id": "eb27a167-ed0a-40a5-bfa7-a96811b3cedb",
   "metadata": {},
   "outputs": [
    {
     "name": "stderr",
     "output_type": "stream",
     "text": [
      "2022-10-18 15:37:33.131768: I tensorflow/core/platform/cpu_feature_guard.cc:151] This TensorFlow binary is optimized with oneAPI Deep Neural Network Library (oneDNN) to use the following CPU instructions in performance-critical operations:  AVX2 AVX512F FMA\n",
      "To enable them in other operations, rebuild TensorFlow with the appropriate compiler flags.\n",
      "2022-10-18 15:37:33.890547: I tensorflow/core/common_runtime/gpu/gpu_device.cc:1525] Created device /job:localhost/replica:0/task:0/device:GPU:0 with 9652 MB memory:  -> device: 0, name: NVIDIA GeForce RTX 2080 Ti, pci bus id: 0000:17:00.0, compute capability: 7.5\n",
      "2022-10-18 15:37:33.891125: I tensorflow/core/common_runtime/gpu/gpu_device.cc:1525] Created device /job:localhost/replica:0/task:0/device:GPU:1 with 9652 MB memory:  -> device: 1, name: NVIDIA GeForce RTX 2080 Ti, pci bus id: 0000:b3:00.0, compute capability: 7.5\n"
     ]
    }
   ],
   "source": [
    "import tensorflow as tf\n",
    "import tensorflow_probability as tfp\n",
    "\n",
    "import numpy as np\n",
    "\n",
    "from trieste.acquisition.function.utils import *\n",
    "\n",
    "%load_ext autoreload\n",
    "%autoreload 2"
   ]
  },
  {
   "cell_type": "code",
   "execution_count": 2,
   "id": "2a30342e-2084-4fd8-9864-fc3b7e6cf738",
   "metadata": {},
   "outputs": [],
   "source": [
    "def mc_mvn_cdf(\n",
    "        mean: tf.Tensor,\n",
    "        cov: tf.Tensor,\n",
    "        x: tf.Tensor,\n",
    "        num_samples: int,\n",
    "    ):\n",
    "    \n",
    "    samples = tfd.MultivariateNormalFullCovariance(\n",
    "        loc=mean,\n",
    "        covariance_matrix=cov,\n",
    "    ).sample(sample_shape=[num_samples])\n",
    "    \n",
    "    gt = tf.reduce_all(tf.math.less(samples, x[None, :, :]), axis=-1)\n",
    "    \n",
    "    return tf.cast(gt, dtype=tf.float32)"
   ]
  },
  {
   "cell_type": "code",
   "execution_count": 3,
   "id": "3133cd56-640d-4660-9b36-dfb872486b58",
   "metadata": {},
   "outputs": [
    {
     "name": "stdout",
     "output_type": "stream",
     "text": [
      "(1, 5) (1, 5, 5) (1,)\n"
     ]
    }
   ],
   "source": [
    "dtype = tf.float64\n",
    "# B = 10\n",
    "# Q = 3\n",
    "S = 100\n",
    "num_naive_samples = int(1e5)\n",
    "\n",
    "mean = tf.convert_to_tensor(np.load(\"mean.npy\"))\n",
    "covariance = tf.convert_to_tensor(np.load(\"covariance.npy\"))\n",
    "threshold = tf.convert_to_tensor(np.load(\"threshold.npy\"))\n",
    "\n",
    "B, Q = mean.shape\n",
    "samples = tf.math.sobol_sample(dim=Q, num_results=S, dtype=dtype)\n",
    "\n",
    "print(mean.shape, covariance.shape, threshold.shape)\n",
    "\n",
    "mvn_cdf = make_mvn_cdf(samples=samples)"
   ]
  },
  {
   "cell_type": "code",
   "execution_count": 4,
   "id": "4f096237-a8ef-42d8-a011-0f6f20f962e4",
   "metadata": {},
   "outputs": [
    {
     "name": "stderr",
     "output_type": "stream",
     "text": [
      "2022-10-18 15:37:34.309526: I tensorflow/core/util/cuda_solvers.cc:179] Creating GpuSolver handles for stream 0x2380d440\n"
     ]
    },
    {
     "name": "stdout",
     "output_type": "stream",
     "text": [
      "2.300161412916041\n"
     ]
    },
    {
     "data": {
      "text/plain": [
       "<tf.Tensor: shape=(1,), dtype=float64, numpy=array([2.30016141])>"
      ]
     },
     "execution_count": 4,
     "metadata": {},
     "output_type": "execute_result"
    }
   ],
   "source": [
    "qEI(\n",
    "    mean=mean,\n",
    "    covariance=covariance,\n",
    "    threshold=threshold,\n",
    "    mvn_cdf=mvn_cdf,\n",
    ")"
   ]
  },
  {
   "cell_type": "code",
   "execution_count": null,
   "id": "fd273458-53d9-4ac8-9757-3f1fbc48e057",
   "metadata": {},
   "outputs": [],
   "source": []
  }
 ],
 "metadata": {
  "kernelspec": {
   "display_name": "venv-trieste",
   "language": "python",
   "name": "venv-trieste"
  },
  "language_info": {
   "codemirror_mode": {
    "name": "ipython",
    "version": 3
   },
   "file_extension": ".py",
   "mimetype": "text/x-python",
   "name": "python",
   "nbconvert_exporter": "python",
   "pygments_lexer": "ipython3",
   "version": "3.9.9"
  }
 },
 "nbformat": 4,
 "nbformat_minor": 5
}
