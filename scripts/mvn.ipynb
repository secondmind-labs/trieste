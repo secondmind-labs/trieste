{
 "cells": [
  {
   "cell_type": "code",
   "execution_count": 1,
   "id": "90e51412-dad5-4e56-a892-6afa1260fb3e",
   "metadata": {},
   "outputs": [],
   "source": [
    "from typing import *\n",
    "import os\n",
    "\n",
    "os.environ[\"CUDA_VISIBLE_DEVICES\"] = \"-1\"\n",
    "\n",
    "import tensorflow as tf\n",
    "import tensorflow_probability as tfp\n",
    "\n",
    "import numpy as np\n",
    "import matplotlib.pyplot as plt\n",
    "\n",
    "from scipy.stats import multivariate_normal\n",
    "\n",
    "base_dir = \"/\".join(os.getcwd().split(\"/\")[:-1])"
   ]
  },
  {
   "cell_type": "code",
   "execution_count": 2,
   "id": "18fe164e-ca46-4280-a3bb-024278cef2b6",
   "metadata": {},
   "outputs": [],
   "source": [
    "def naive_monte_carlo_cdf(\n",
    "        mean: tf.Tensor,\n",
    "        cov: tf.Tensor,\n",
    "        lower: tf.Tensor,\n",
    "        upper: tf.Tensor,\n",
    "        num_samples: int,\n",
    "    ):\n",
    "    \n",
    "    normal = tfp.distributions.MultivariateNormalFullCovariance(\n",
    "        loc=mean,\n",
    "        covariance_matrix=cov,\n",
    "    )\n",
    "    \n",
    "    samples = normal.sample(sample_shape=[num_samples])\n",
    "    \n",
    "    upper = tf.tile(upper[None, :], [num_samples, 1])\n",
    "    lower = tf.tile(lower[None, :], [num_samples, 1])\n",
    "    \n",
    "    ge = tf.cast(tf.math.greater_equal(samples, lower), dtype=tf.float32)\n",
    "    ge = tf.reduce_prod(ge, axis=-1)\n",
    "    \n",
    "    le = tf.cast(tf.math.less_equal(samples, upper), dtype=tf.float32)\n",
    "    le = tf.reduce_prod(le, axis=-1)\n",
    "    \n",
    "    indicator = tf.reduce_prod([ge, le], axis=0)\n",
    "    \n",
    "    return indicator"
   ]
  },
  {
   "cell_type": "code",
   "execution_count": 8,
   "id": "ae0daf3d-9909-4708-8f33-35eab92a1f0f",
   "metadata": {},
   "outputs": [],
   "source": [
    "def update_add(\n",
    "        tensor: tf.Tensor,\n",
    "        index: List[int],\n",
    "        update: tf.Tensor,\n",
    "    ):\n",
    "    \n",
    "    index = tf.convert_to_tensor([index])\n",
    "    update = tf.convert_to_tensor([update])\n",
    "    \n",
    "    index = tf.convert_to_tensor(index)\n",
    "    updated = tf.tensor_scatter_nd_add(\n",
    "        tensor=tensor,\n",
    "        indices=index,\n",
    "        updates=update,\n",
    "    )\n",
    "    \n",
    "    return updated\n",
    "\n",
    "\n",
    "def vector_dot(\n",
    "        a: tf.Tensor,\n",
    "        b: tf.Tensor,\n",
    "    ):\n",
    "    \n",
    "    return tf.reduce_sum(a*b)\n",
    "\n",
    "\n",
    "@tf.function(jit_compile=True)\n",
    "def single_sample_cdf(\n",
    "        mean: tf.Tensor,\n",
    "        cov: tf.Tensor,\n",
    "        lower: tf.Tensor,\n",
    "        upper: tf.Tensor,\n",
    "        samples: tf.Tensor,\n",
    "    ):\n",
    "    \n",
    "    # Identify data type to use for all calculations\n",
    "    dtype = mean.dtype\n",
    "    \n",
    "    # Dimension of the integral\n",
    "    D = mean.shape[-1]\n",
    "    \n",
    "    # Rename samples and limits for brevity\n",
    "    w = samples\n",
    "    a = lower\n",
    "    b = upper\n",
    "    \n",
    "    # Compute cholesky of the covariance matrix\n",
    "    C = tf.linalg.cholesky(cov)\n",
    "    \n",
    "    # Initialise transformation variables\n",
    "    d = tf.zeros_like(mean)\n",
    "    e = tf.zeros_like(mean)\n",
    "    f = tf.zeros_like(mean)\n",
    "    y = tf.zeros_like(mean)\n",
    "    \n",
    "    # Initialise standard normal for computing CDFs\n",
    "    normal = tfp.distributions.Normal(\n",
    "        loc=tf.zeros(shape=(), dtype=dtype),\n",
    "        scale=tf.ones(shape=(), dtype=dtype),\n",
    "    )\n",
    "    Phi = lambda x: normal.cdf(x)\n",
    "    iPhi = lambda x: normal.quantile(x)\n",
    "    \n",
    "    # Compute transformation variables at the first step\n",
    "    d = update_add(d, [0], Phi(a[0] / C[0, 0]))\n",
    "    e = update_add(e, [0], Phi(b[0] / C[0, 0]))\n",
    "    f = update_add(f, [0], e[0] - d[0])\n",
    "    \n",
    "    for i in tf.range(1, D):\n",
    "        \n",
    "        # Update y[i-1]\n",
    "        y = update_add(y, [i-1], iPhi(d[i-1] + w[i-1] * (e[i-1] - d[i-1])))\n",
    "        \n",
    "        # Update d[i-1] and e[i-1]\n",
    "        d = update_add(d, [i], Phi((a[i] - vector_dot(C[i, :i], y[:i])) / C[i, i]))\n",
    "        e = update_add(e, [i], Phi((b[i] - vector_dot(C[i, :i], y[:i])) / C[i, i]))\n",
    "        f = update_add(f, [i], (e[i] - d[i]) * f[i-1])\n",
    "        \n",
    "    return f[-1]"
   ]
  },
  {
   "cell_type": "code",
   "execution_count": 112,
   "id": "777f1b3b-aac9-4635-8741-11197a9e86f0",
   "metadata": {},
   "outputs": [],
   "source": [
    "# Set random seed\n",
    "tf.random.set_seed(4)\n",
    "\n",
    "# Set default data type\n",
    "dtype = tf.float32\n",
    "\n",
    "# Number of samples and dimension of Gaussian\n",
    "S = 100\n",
    "D = 5\n",
    "\n",
    "# Set up the mean and covariance\n",
    "mean = tf.zeros(shape=(D,), dtype=dtype)\n",
    "rand = tf.random.uniform((D, D), dtype=dtype)\n",
    "cov = tf.matmul(rand, rand, transpose_b=True) + tf.eye(D, dtype=dtype)\n",
    "\n",
    "# Set up lower and upper integration limits\n",
    "lower = - 1e-1 * tf.random.uniform((D,), dtype=dtype)\n",
    "upper = 1e-1 * tf.random.uniform((D,), dtype=dtype)\n",
    "\n",
    "# Draw samples to use within the MC estiamate\n",
    "samples = tf.random.uniform(shape=(S, D))\n",
    "\n",
    "# Equally well, you can use Sobol sequences by replacing the line above with\n",
    "# samples = tf.math.sobol_sample(dim=D, num_results=S)\n",
    "\n",
    "_single_sample_cdf = lambda x: single_sample_cdf(mean, cov, lower, upper, x)"
   ]
  },
  {
   "cell_type": "code",
   "execution_count": 113,
   "id": "4bf6a377-4978-45bf-b10e-a11049ad80d9",
   "metadata": {},
   "outputs": [
    {
     "name": "stdout",
     "output_type": "stream",
     "text": [
      "CDF: 0.000000015 +/- 0.000000000\n"
     ]
    },
    {
     "data": {
      "image/png": "[encoded data removed]",
      "text/plain": [
       "<Figure size 640x480 with 1 Axes>"
      ]
     },
     "metadata": {},
     "output_type": "display_data"
    }
   ],
   "source": [
    "cdf = tf.map_fn(\n",
    "    _single_sample_cdf,\n",
    "    samples,\n",
    ")\n",
    "\n",
    "print(f\"CDF: {tf.reduce_mean(cdf):.9f} +/- {2*tf.math.reduce_std(cdf)/S**0.5:.9f}\")\n",
    "\n",
    "plt.hist(cdf)\n",
    "plt.show()"
   ]
  },
  {
   "cell_type": "code",
   "execution_count": 114,
   "id": "edec4d85-6e4e-41a6-bcb1-123759f58058",
   "metadata": {},
   "outputs": [
    {
     "data": {
      "text/plain": [
       "(<tf.Tensor: shape=(), dtype=float32, numpy=0.0>,\n",
       " <tf.Tensor: shape=(), dtype=float32, numpy=0.0>)"
      ]
     },
     "execution_count": 114,
     "metadata": {},
     "output_type": "execute_result"
    }
   ],
   "source": [
    "num_samples = 100000\n",
    "\n",
    "naive_cdf = naive_monte_carlo_cdf(\n",
    "    mean=mean,\n",
    "    cov=cov,\n",
    "    lower=lower,\n",
    "    upper=upper,\n",
    "    num_samples=num_samples,\n",
    ")\n",
    "\n",
    "tf.reduce_mean(naive_cdf), 2*tf.math.reduce_std(naive_cdf)/num_samples**0.5"
   ]
  },
  {
   "cell_type": "code",
   "execution_count": null,
   "id": "ce4f2d16-8042-4113-803f-cfd5d809ebc7",
   "metadata": {},
   "outputs": [],
   "source": []
  }
 ],
 "metadata": {
  "kernelspec": {
   "display_name": "venv-trieste",
   "language": "python",
   "name": "venv-trieste"
  },
  "language_info": {
   "codemirror_mode": {
    "name": "ipython",
    "version": 3
   },
   "file_extension": ".py",
   "mimetype": "text/x-python",
   "name": "python",
   "nbconvert_exporter": "python",
   "pygments_lexer": "ipython3",
   "version": "3.9.9"
  }
 },
 "nbformat": 4,
 "nbformat_minor": 5
}
